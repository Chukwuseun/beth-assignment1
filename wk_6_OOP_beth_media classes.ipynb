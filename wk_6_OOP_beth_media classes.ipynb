{
 "cells": [
  {
   "cell_type": "code",
   "execution_count": null,
   "id": "bf9fc1b1-faa4-469a-88f3-3a3b962ff9f4",
   "metadata": {},
   "outputs": [],
   "source": [
    "### OOP"
   ]
  },
  {
   "cell_type": "code",
   "execution_count": 2,
   "id": "9c9e469f-11f7-44f6-97ee-a946dcbee344",
   "metadata": {
    "panel-layout": {
     "height": 0,
     "visible": true,
     "width": 100
    }
   },
   "outputs": [
    {
     "name": "stdout",
     "output_type": "stream",
     "text": [
      "funmi\n",
      "24\n"
     ]
    }
   ],
   "source": [
    "\"\"\"1. Define a class called Person with attributes name and age. Create an instance and print the details.\"\"\"\n",
    "\n",
    "class Person:\n",
    "    def __init__(self, name, age):\n",
    "        self.name = name\n",
    "        self.age = age\n",
    "\n",
    "P1 = Person(\"funmi\", 24)\n",
    "print(P1.name)\n",
    "print(P1.age)"
   ]
  },
  {
   "cell_type": "code",
   "execution_count": 15,
   "id": "53fcb911-9cba-4cfd-968c-876c5a4c0ca7",
   "metadata": {
    "panel-layout": {
     "height": 0,
     "visible": true,
     "width": 100
    }
   },
   "outputs": [
    {
     "name": "stdout",
     "output_type": "stream",
     "text": [
      "12m² \n"
     ]
    }
   ],
   "source": [
    "\"\"\"Create a class Rectangle with attributes length and width and a method to calculate area.\"\"\"\n",
    "\n",
    "class Rectangle:\n",
    "    def __init__(self, length, width, unit ):  #added the attribute unit to capture the unit of the dimensions\n",
    "        self.length = length\n",
    "        self.width = width\n",
    "        self.unit = unit\n",
    "\n",
    "    def calculate_area(self):\n",
    "        return f\"{self.length * self.width}{self.unit}\\u00b2 \"  #use the unicode escape sequence (\\u00b2) to output the unit in square unit\n",
    "\n",
    "Shape1 = Rectangle(2, 6, \"m\")\n",
    "print(Shape1.calculate_area())\n"
   ]
  },
  {
   "cell_type": "code",
   "execution_count": 27,
   "id": "7fc7a582-4497-4089-9e28-0fc586596027",
   "metadata": {
    "panel-layout": {
     "height": 0,
     "visible": true,
     "width": 100
    }
   },
   "outputs": [
    {
     "name": "stdout",
     "output_type": "stream",
     "text": [
      "{'Blessing': 78, 'Byron': 85, 'Popo': 45}\n"
     ]
    }
   ],
   "source": [
    "\"\"\"Define a class Student with name and marks. Create multiple instances and display their details.\"\"\"\n",
    "\n",
    "class Student:\n",
    "    def __init__(self, name, marks):\n",
    "        self.name = name\n",
    "        self.marks = marks\n",
    "\n",
    "   \n",
    "s1 = Student(\"Blessing\", 78)\n",
    "s2 = Student(\"Byron\", 85)\n",
    "s3 = Student(\"Popo\", 45)\n",
    "\n",
    "details = [s1.name,s1.marks], [s2.name,s2.marks], [s3.name,s3.marks]\n",
    "print(dict(details))"
   ]
  },
  {
   "cell_type": "code",
   "execution_count": 51,
   "id": "872d0a7f-baf3-4ce3-869d-b3081c26b8ac",
   "metadata": {},
   "outputs": [
    {
     "name": "stdout",
     "output_type": "stream",
     "text": [
      "{'Chimamanda Adichie': 'Half of a yellow sun'}\n",
      "{'Chinua Achebe': 'Things fall apart'}\n",
      "{'Barrak Obama': 'The Audacity of hope'}\n"
     ]
    }
   ],
   "source": [
    "\"\"\"Write a class Book with attributes title and author. Add a method to display details.\"\"\"\n",
    "\n",
    "class Book:\n",
    "    def __init__(self, title, author):\n",
    "        self.title = title\n",
    "        self.author = author\n",
    "\n",
    "    def display_details(self):\n",
    "        return {self.title: self.author}\n",
    "\n",
    "b1= Book(\"Chimamanda Adichie\", \"Half of a yellow sun\")\n",
    "b2 =Book(\"Chinua Achebe\", \"Things fall apart\")\n",
    "b3 = Book(\"Barrak Obama\", \"The Audacity of hope\")\n",
    "\n",
    "for book in [b1.display_details(), b2.display_details(), b3.display_details()]:\n",
    "    print(book)\n",
    "\n",
    "#b1.display_details()\n",
    "#b2.display_details()\n",
    "#b3.display_details()\n",
    "#book = [b1.display_details(), b2.display_details(), b3.display_details()]\n",
    "#print(dict(book))\n",
    "        "
   ]
  },
  {
   "cell_type": "code",
   "execution_count": 52,
   "id": "73d761bb-6190-4df2-9019-14459bcadf5e",
   "metadata": {
    "panel-layout": {
     "height": 0,
     "visible": true,
     "width": 100
    }
   },
   "outputs": [
    {
     "name": "stdout",
     "output_type": "stream",
     "text": [
      "Dell laptop with 2.4Ghz speed  and 8 Gigabytes RAM\n"
     ]
    }
   ],
   "source": [
    "\"\"\"Create a Laptop class with attributes brand, processor, and RAM. Write a method to print specications.\"\"\"\n",
    "\n",
    "class Laptop:\n",
    "    def __init__(self, brand, processor, RAM):\n",
    "        self.brand = brand\n",
    "        self.processor = processor\n",
    "        self.RAM = RAM\n",
    "\n",
    "    def display_specs(self):\n",
    "        return f\"{self.brand} laptop with {self.processor} speed  and {self.RAM} Gigabytes RAM\"\n",
    "\n",
    "L1= Laptop(\"Dell\", \"2.4Ghz\", 8)\n",
    "print(L1.display_specs())"
   ]
  },
  {
   "cell_type": "code",
   "execution_count": 85,
   "id": "dd6d6616-c1d3-4a8a-b9f3-ca1f1819b98f",
   "metadata": {},
   "outputs": [
    {
     "name": "stdout",
     "output_type": "stream",
     "text": [
      " Customer name : Chukwuseun\n",
      " account number : 2676345612\n",
      " Balance  : 1800 Naira\n",
      "Thank You for Banking with us\n"
     ]
    }
   ],
   "source": [
    "\"\"\"Create a BankAccount class with deposit and withdrawal methods and a private balance attribute\"\"\"\n",
    "\n",
    "class BankAccount:\n",
    "    def __init__(self, name, acc_number, balance):\n",
    "        self.name = name\n",
    "        self.acc_number = acc_number\n",
    "        self.__balance = balance\n",
    "\n",
    "    def deposit(self, amount):\n",
    "        self.__balance += amount\n",
    "        return f\"Your balance is {self.__balance} Naira\"\n",
    "\n",
    "    def withdrawal(self, amount):\n",
    "        if amount > self.__balance:\n",
    "            return \"Insufficient Funds\"\n",
    "        self.__balance -= amount\n",
    "        return f\"Your balance is {self.__balance} Naira\"\n",
    "\n",
    "    #def get_balance(self):\n",
    "       # return f\"{self.__balance} Naira\"\n",
    "\n",
    "    def customer_balance(self):\n",
    "        print(f\" Customer name : {self.name}\\n account number : {self.acc_number}\\n Balance  : {self.__balance} Naira\")\n",
    "        return \"Thank You for Banking with us\"\n",
    "\n",
    "cust1 = BankAccount(\"Chukwuseun\", 2676345612, 1000)\n",
    "#print(cust1.self.__balance)\n",
    "#print(cust1.name)\n",
    "cust1.deposit(2000)\n",
    "cust1.withdrawal(1200)\n",
    "print(cust1.customer_balance())"
   ]
  },
  {
   "cell_type": "code",
   "execution_count": 106,
   "id": "63dae5f5-c8a3-4c5f-854f-22caa45e62e9",
   "metadata": {},
   "outputs": [
    {
     "name": "stdout",
     "output_type": "stream",
     "text": [
      "Area of rectangle of height 4.5 is 27.90cm²\n",
      "Area of circle of radius 4 is 50.24m²\n"
     ]
    }
   ],
   "source": [
    "\"\"\"Write a Shape class with a method area(). Derive Circle and Rectangle classes and override the method.\"\"\"\n",
    "class Shape:\n",
    "    def __init__(self):\n",
    "        pass\n",
    "        \n",
    "    def area(self):\n",
    "        return \"This function is to be overridden by the functions below\"\n",
    "         \n",
    "\n",
    "    \n",
    "class Circle(Shape):\n",
    "    def __init__(self, radius, unit):\n",
    "        self.radius = radius\n",
    "        self.unit = unit\n",
    "    def area(self):\n",
    "        return f\"Area of circle of radius {self.radius} is {3.14 * self.radius**2 :.2f}{self.unit}\\u00b2\"\n",
    "\n",
    "class Rectangle(Shape):\n",
    "    def __init__(self, height, breadth, dimension):\n",
    "        self.height = height\n",
    "        self.breadth = breadth\n",
    "        self.dimension = dimension\n",
    "\n",
    "    def area(self):\n",
    "        return f\"Area of rectangle of height {self.height} is {self.height * self.breadth :.2f}{self.dimension}\\u00b2\"\n",
    "\n",
    "s2 = Rectangle(4.5, 6.2, 'cm')\n",
    "print(s2.area())\n",
    "\n",
    "     \n",
    "s1 = Circle(4,\"m\")\n",
    "print(s1.area())\n",
    "        \n",
    "#for area in s1.area(), s2.area():\n",
    "    #print(f\"{area} \\n\")"
   ]
  },
  {
   "cell_type": "code",
   "execution_count": 127,
   "id": "cca20ce8-d4b5-49c6-beb7-5c21b10caf82",
   "metadata": {},
   "outputs": [
    {
     "name": "stdout",
     "output_type": "stream",
     "text": [
      "The Toyota Corolla is moving at a speed of 100km/hr\n",
      "The Yellow suzuki dokoru is moving at a speed of 75km/hr \n"
     ]
    },
    {
     "data": {
      "text/plain": [
       "'The suzuki dokoru is moving at a speed of 90km/hr'"
      ]
     },
     "execution_count": 127,
     "metadata": {},
     "output_type": "execute_result"
    }
   ],
   "source": [
    "\"\"\"Define a Vehicle class. Inherit Car and Bike from it and add specic attributes to each.\"\"\"\n",
    "\n",
    "class Vehicle:  #Parent class\n",
    "    def __init__(self, brand, model, speed):\n",
    "        self.brand = brand\n",
    "        self.model = model\n",
    "        self.speed = speed\n",
    "   \n",
    "    def accelerate(self, accelerate):  #parent class method\n",
    "        self.speed += accelerate\n",
    "        return F'The {self.brand} {self.model} is moving at a speed of {self.speed}km/hr'\n",
    "\n",
    "class Car(Vehicle):   #Child class\n",
    "    def __init__(self, brand, model, speed, year):\n",
    "        super().__init__(brand, model, speed)  #using the super(). to inherit the attributes of the parent class\n",
    "        self.year = year #additional attribute specific to the child class\n",
    "\n",
    "class Bike(Vehicle):  #another Child class\n",
    "    def __init__(self, brand, model, speed, color):\n",
    "        super().__init__(brand, model, speed)\n",
    "        self.color = color\n",
    "\n",
    "    def bike_details(self):   #Child method swparate from parent class method\n",
    "        return f\"The {self.color} {self.brand} {self.model} is moving at a speed of {self.speed}km/hr \"\n",
    "c1 = Car(\"Toyota\",\"Corolla\", 80, 1986 )\n",
    "print(c1.accelerate(20))\n",
    "\n",
    "b1 = Bike('suzuki', 'dokoru', 75, \"Yellow\")\n",
    "print(b1.bike_details())\n",
    "b1.accelerate(15)"
   ]
  },
  {
   "cell_type": "code",
   "execution_count": 25,
   "id": "64343a9c-f0a9-46f6-bd1c-df3c8b27f21f",
   "metadata": {},
   "outputs": [
    {
     "name": "stdout",
     "output_type": "stream",
     "text": [
      "\n",
      "shopping cart:\n",
      "Item       Price      Quantity   Total     \n",
      "----------------------------------------\n",
      "Apple      $3          2.5        $7.5       \n",
      "Banana     $2          0.3        $0.6       \n",
      "----------------------------------------\n",
      "Total Cost                     $8.1\n"
     ]
    }
   ],
   "source": [
    "\"\"\"Implement a ShoppingCart class with methods to add and remove items.\"\"\"\n",
    "\n",
    "class Item:\n",
    "    def __init__(self, name, quantity, price):\n",
    "        self.name = name\n",
    "        self.quantity =quantity\n",
    "        self.price = price\n",
    "\n",
    "    def total_price(self):\n",
    "        return self.price * self.quantity\n",
    "\n",
    "class ShoppingCart:\n",
    "    def __init__(self):\n",
    "        self.cart = {}\n",
    "\n",
    "    def add_item(self, name, price, quantity):\n",
    "        if name in self.cart:\n",
    "            self.cart[name].quantity +=  quantity\n",
    "        else:\n",
    "            self.cart[name] = Item(name, price, quantity)\n",
    "\n",
    "    def remove_items(self, name):\n",
    "        if name in self.cart:\n",
    "            del self.cart[name]\n",
    "            print(f'{name} removed from cart')\n",
    "        else:\n",
    "            print(f'{name} not found in cart')\n",
    "\n",
    "    def display_items(self):\n",
    "        if not self.cart:\n",
    "            print(\"the cart is empty\")\n",
    "\n",
    "            return\n",
    "\n",
    "        print(\"\\nshopping cart:\")\n",
    "        print(f\"{'Item':<10} {'Price':<10} {'Quantity':<10} {'Total':<10}\")\n",
    "        print(\"-\" * 40)\n",
    "\n",
    "        total_cost = 0\n",
    "        for item in self.cart.values():\n",
    "            total = item.total_price()\n",
    "            total_cost += total\n",
    "            print(f\"{item.name:<10} ${item.price:<10} {item.quantity:<10} ${total:<10}\")\n",
    "\n",
    "        print(\"-\" * 40)\n",
    "        print(f\"{'Total Cost':<30} ${total_cost}\")\n",
    "cart = ShoppingCart()\n",
    "cart.add_item(\"Apple\", 0.5, 3)\n",
    "cart.add_item(\"Banana\", 0.3, 2)\n",
    "cart.add_item(\"Apple\", 0.5, 2)  # Apple quantity increases\n",
    "cart.display_items()\n",
    "\n"
   ]
  },
  {
   "cell_type": "code",
   "execution_count": 32,
   "id": "c96a16c1-f7a0-4afe-8118-b11fea172b4f",
   "metadata": {},
   "outputs": [
    {
     "name": "stdout",
     "output_type": "stream",
     "text": [
      "Employee: Alice Johnson, Years of experience:1, Salary: N110000.00\n",
      "Employee: Bob Smith, Years of experience:4, Salary: N120000.00\n",
      "Employee: Charlie Brown, Years of experience:8, Salary: N130000.00\n",
      "Employee: Diana Green, Years of experience:12, Salary: N145000.00\n"
     ]
    }
   ],
   "source": [
    "\"\"\"Create a class Employee with methods for salary calculations based on experience level.\"\"\"\n",
    "\n",
    "class Employee:\n",
    "    employees = []\n",
    "     \n",
    "    def __init__(self, name, experience_years):\n",
    "         \n",
    "        self.name = name\n",
    "        self.experience_years = experience_years\n",
    "        Employee.employees.append(self)\n",
    "    \n",
    "    \n",
    "    def calculate_salary(self):\n",
    "        basic_salary = 100000\n",
    "        if self.experience_years <= 2:\n",
    "             increment = basic_salary * 0.1\n",
    "        elif 2 <= self.experience_years < 5:\n",
    "            increment = basic_salary * 0.2\n",
    "        elif 5 <= self.experience_years < 10:\n",
    "            increment = basic_salary * 0.3\n",
    "        else:\n",
    "           increment = basic_salary * 0.45\n",
    "\n",
    "        total_salary = increment + basic_salary\n",
    "        return total_salary\n",
    "\n",
    "        \n",
    "        \n",
    "\n",
    "    def __str__(self):\n",
    "        Salary = self.calculate_salary()\n",
    "        return f\"Employee: {self.name}, Years of experience:{self.experience_years}, Salary: N{Salary :.2f}\"\n",
    "\n",
    "emp1 = Employee(\"Alice Johnson\", 1)\n",
    "emp2 = Employee(\"Bob Smith\", 4)\n",
    "emp3 = Employee(\"Charlie Brown\", 8)\n",
    "emp4 = Employee(\"Diana Green\", 12)\n",
    "\n",
    "#for emp in [emp1, emp2, emp3, emp4]:\n",
    "    #print(emp)\n",
    "for employee in Employee.employees:\n",
    "    print(employee)"
   ]
  },
  {
   "cell_type": "code",
   "execution_count": null,
   "id": "1c52958c-f4a2-4364-9977-5ebdf3390a2c",
   "metadata": {},
   "outputs": [],
   "source": []
  }
 ],
 "metadata": {
  "kernelspec": {
   "display_name": "Python 3 (ipykernel)",
   "language": "python",
   "name": "python3"
  },
  "language_info": {
   "codemirror_mode": {
    "name": "ipython",
    "version": 3
   },
   "file_extension": ".py",
   "mimetype": "text/x-python",
   "name": "python",
   "nbconvert_exporter": "python",
   "pygments_lexer": "ipython3",
   "version": "3.12.7"
  },
  "panel-cell-order": [
   "9c9e469f-11f7-44f6-97ee-a946dcbee344",
   "53fcb911-9cba-4cfd-968c-876c5a4c0ca7",
   "7fc7a582-4497-4089-9e28-0fc586596027",
   "73d761bb-6190-4df2-9019-14459bcadf5e"
  ]
 },
 "nbformat": 4,
 "nbformat_minor": 5
}
