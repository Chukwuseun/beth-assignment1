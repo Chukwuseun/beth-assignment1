{
 "cells": [
  {
   "cell_type": "code",
   "execution_count": 113,
   "id": "a399eaff-6622-4246-87f8-a8bd76e67df5",
   "metadata": {},
   "outputs": [
    {
     "name": "stdout",
     "output_type": "stream",
     "text": [
      "2.0\n"
     ]
    }
   ],
   "source": [
    "'''1. Write a function divide_numbers(a, b) that returns the result of a / b. Handle the case where b is zero by returning \"Cannot divide by zero\"'''\n",
    "\n",
    "def divide_numbers(a, b):\n",
    "    try:   #introduce the try-except block\n",
    "        return a/b\n",
    "        \n",
    "    except ZeroDivisionError: #caters for zero division error\n",
    "        return 'Can not divide by zero'\n",
    "result = divide_numbers(4, 2)\n",
    "print(result)\n"
   ]
  },
  {
   "cell_type": "code",
   "execution_count": 116,
   "id": "7fd088bc-ac0e-41a5-b217-65ac141aa122",
   "metadata": {},
   "outputs": [
    {
     "name": "stdin",
     "output_type": "stream",
     "text": [
      "Enter a number:  thr\n"
     ]
    },
    {
     "name": "stdout",
     "output_type": "stream",
     "text": [
      "Invalid input, please enter a number\n"
     ]
    }
   ],
   "source": [
    "'''2. Write a program that reads an integer input from the user. \n",
    "Use a try-except blockto handle Value Error if the user enters invalid data (e.g., a string like \"abc\")'''\n",
    " \n",
    "try:\n",
    "    user_input = int(input(\"Enter a number: \"))  #takes integer input from the user\n",
    "    print(user_input)\n",
    "except ValueError: #caters for wrong input format from the user\n",
    "    print(\"Invalid input, please enter a number\")\n"
   ]
  },
  {
   "cell_type": "code",
   "execution_count": 122,
   "id": "2572f71e-50a3-4789-8050-331f26b75108",
   "metadata": {},
   "outputs": [
    {
     "name": "stdin",
     "output_type": "stream",
     "text": [
      "Enter your age -9\n"
     ]
    },
    {
     "name": "stdout",
     "output_type": "stream",
     "text": [
      "Age can not be zero or negative!\n"
     ]
    }
   ],
   "source": [
    "'''3. Write a small program that prompts the user for their age (as an integer) and uses\n",
    "a try-except block to handle ValueError in case the user inputs a non-integer (e.g., \"twenty\"). '''\n",
    "class InvalidInputError(Exception):  #creates a custom ecxeption by creating a class from a built-in exception\n",
    "    pass\n",
    "\n",
    "try:\n",
    "    age = int(input(\"Enter your age\"))\n",
    "    if age <= 0:\n",
    "        raise InvalidInputError(\"Age can not be zero or negative!\") #raising the custom exception\n",
    "except InvalidInputError as e:  #calling the custom exception raised above\n",
    "    print(e)\n",
    "except ValueError: # creating another exception which in this case is not a custom exception but a built-in exception\n",
    "    print('Invalid input! Enter age in number')\n",
    "else:\n",
    "     print(f'You are {age} years old')\n",
    "\n",
    "    \n"
   ]
  },
  {
   "cell_type": "code",
   "execution_count": 124,
   "id": "4922b268-b73a-45f8-8e56-a04b4b537fcc",
   "metadata": {},
   "outputs": [
    {
     "name": "stdout",
     "output_type": "stream",
     "text": [
      "Error! Can not convert k to integer\n",
      "[1, 2, 4]\n"
     ]
    }
   ],
   "source": [
    "'''4. Create a function convert_to_int_list(str_list) that takes a list of strings (e.g., [\"1\", \"2\", \"abc\", \"4\"])\n",
    "and returns a new list of integers. Use a try-except block inside a loop to handle any ValueError when a string can’t be converted, \n",
    "and print an error message without stopping the entire process. '''\n",
    "\n",
    "def convert_to_int_list(str_list):\n",
    "    new_list = [] #create an empty list to return the list of integers from the iteration of the list of strings \n",
    "    for i in str_list: #iterates through the string of list\n",
    "        try:\n",
    "            new_list.append(int(i)) #most important aspect of the code as it converts each iterable to an integer and raises an error if such iterable \n",
    "        except ValueError:\n",
    "            print(f\"Error! Can not convert {i} to integer\")\n",
    "    return new_list\n",
    "result = convert_to_int_list( [\"1\", \"2\", \"k\", \"4\"])\n",
    "print(result)"
   ]
  },
  {
   "cell_type": "code",
   "execution_count": 20,
   "id": "2e098a69-8c48-40d2-8013-028b42345fc3",
   "metadata": {},
   "outputs": [
    {
     "name": "stdout",
     "output_type": "stream",
     "text": [
      "index out of range\n"
     ]
    }
   ],
   "source": [
    "'''5. Create a function access_list_item(my_list, index) that attempts to return the element at index. \n",
    "Handle IndexError by printing a message like \"Index out ofrange\" if the requested index is invalid'''\n",
    "def access_list_item(my_list: list, index: int):\n",
    "    try:\n",
    "        return my_list[index]\n",
    "    except IndexError:\n",
    "        return \"index out of range\"\n",
    "my_list = [2, 1, 4, 5]\n",
    "result = access_list_item(my_list, 4)\n",
    "print(result)\n"
   ]
  },
  {
   "cell_type": "code",
   "execution_count": null,
   "id": "8f185c36-911c-4817-9df2-0cbe66af1020",
   "metadata": {},
   "outputs": [],
   "source": [
    "#INTERMEDIATE LEVEL"
   ]
  },
  {
   "cell_type": "code",
   "execution_count": 22,
   "id": "0b6974ed-82ac-4e2d-85e1-59f29851e4ad",
   "metadata": {},
   "outputs": [
    {
     "name": "stdout",
     "output_type": "stream",
     "text": [
      "Key does not exixt\n"
     ]
    }
   ],
   "source": [
    "'''6. Write a function get_key_value(dictionary, key) that returns the value of a given key from a dictionary. \n",
    "Use KeyError handling to print a friendly message if the key does not exist.  '''\n",
    "\n",
    "def get_key_value(dictionary, key):\n",
    "    try:\n",
    "        return dictionary[key]\n",
    "    except KeyError:\n",
    "        return \"Key does not exixs\"\n",
    "\n",
    "my_dict = {\"ade\": 23, \"momo\": 11, \"kaka\": 19, \"dami\": 29}\n",
    "result = get_key_value(my_dict, \"prside\")\n",
    "print(result)\n",
    "\n",
    "        \n",
    "    "
   ]
  },
  {
   "cell_type": "code",
   "execution_count": 135,
   "id": "d4895025-c13b-4c9f-95b3-c4d5297c64d2",
   "metadata": {},
   "outputs": [
    {
     "name": "stdout",
     "output_type": "stream",
     "text": [
      "0.43\n",
      "Height can not be zero or negative\n",
      "0.2\n"
     ]
    }
   ],
   "source": [
    "'''7. Create a function calculate_bmi(weight, height) that raises a custom exception InvalidHeightError if height is 0 or negative. '''\n",
    "\n",
    "class InvalidHeightError(Exception):\n",
    "    pass\n",
    "\n",
    "def calculate_bmi(weight : int, height : int):\n",
    "    try:\n",
    "        if height <= 0:\n",
    "            raise InvalidHeightError(\"Height can not be zero or negative\")\n",
    "    \n",
    "        bmi = weight / (height ** 2)\n",
    "        return round(bmi, 2)\n",
    "    except InvalidHeightError as e:\n",
    "        return(e)\n",
    "solar = calculate_bmi(21, 7)\n",
    "bryan = calculate_bmi(10, 0)\n",
    "kate = calculate_bmi(10, 7)\n",
    "for item in (solar, bryan, kate):\n",
    "    print(item)\n",
    "\n",
    "    "
   ]
  },
  {
   "cell_type": "code",
   "execution_count": 138,
   "id": "7549e6cc-3a87-4b54-b374-ec5f44adc426",
   "metadata": {},
   "outputs": [
    {
     "name": "stdout",
     "output_type": "stream",
     "text": [
      "Invalid input! Enter a valid number\n"
     ]
    }
   ],
   "source": [
    "'''8. Use the raise keyword to force a TypeError if a function add_numbers(a, b) is\n",
    "called with non-integer arguments. '''\n",
    "\n",
    "def add_numbers(a, b):\n",
    "    try:\n",
    "        if not isinstance(a, int) or not isinstance(b, int):\n",
    "            raise TypeError(\"Invalid input! Enter a valid number\")\n",
    "        return (a + b)\n",
    "    except TypeError as e:\n",
    "        return(e)\n",
    "\n",
    "summation = add_numbers(4,\"k\")\n",
    "print(summation)"
   ]
  },
  {
   "cell_type": "code",
   "execution_count": null,
   "id": "96c91edb-a37a-400c-bcae-9eb13d8d7839",
   "metadata": {},
   "outputs": [],
   "source": []
  },
  {
   "cell_type": "code",
   "execution_count": 98,
   "id": "065f9327-14f8-4536-8300-73243c9eb8e5",
   "metadata": {},
   "outputs": [
    {
     "name": "stdout",
     "output_type": "stream",
     "text": [
      "Division successful, the result is 2.0 \n",
      "\n",
      "Zero is not a valid value. Enter a value greater than zero! \n",
      "\n",
      "Division successful, the result is 2.0 \n",
      "\n"
     ]
    }
   ],
   "source": [
    "'''9. Create a function safe_division(a, b) that returns the result of a / b. \n",
    "Handle ZeroDivisionError with a custom message. Use the else clause to print \"Divisionsuccessful!\" \n",
    "when no exception occurs. Return the result only if successful; otherwise, return None. '''\n",
    "\n",
    "\n",
    "def safe_division(a, b):\n",
    "    try:\n",
    "        if a == 0 or  b == 0:\n",
    "            raise ZeroDivisionError(\"Zero is not a valid value. Enter a value greater than zero!\")\n",
    "        \n",
    "    except ZeroDivisionError as e:\n",
    "        return(e)\n",
    "    \n",
    "    else:\n",
    "        return(f\"Division successful, the result is {a / b}\")\n",
    "#call function multiple times \n",
    "        \n",
    "result = safe_division(2, 1)\n",
    "result1 = safe_division(0, 4)\n",
    "result2= safe_division(10, 5)\n",
    "for x in (result, result1, result2 ):  #iterate through the outputs\n",
    "    print(x, \"\\n\")   #use a newline character '\\n' to give a space in between each line\n",
    "\n"
   ]
  },
  {
   "cell_type": "code",
   "execution_count": null,
   "id": "a2258992-4f33-4fb4-bc26-62f996acdc24",
   "metadata": {},
   "outputs": [],
   "source": []
  },
  {
   "cell_type": "code",
   "execution_count": null,
   "id": "e8c9db1e-9bf8-4e0a-973f-5d8520788ffc",
   "metadata": {},
   "outputs": [],
   "source": []
  }
 ],
 "metadata": {
  "kernelspec": {
   "display_name": "Python 3 (ipykernel)",
   "language": "python",
   "name": "python3"
  },
  "language_info": {
   "codemirror_mode": {
    "name": "ipython",
    "version": 3
   },
   "file_extension": ".py",
   "mimetype": "text/x-python",
   "name": "python",
   "nbconvert_exporter": "python",
   "pygments_lexer": "ipython3",
   "version": "3.12.7"
  }
 },
 "nbformat": 4,
 "nbformat_minor": 5
}
