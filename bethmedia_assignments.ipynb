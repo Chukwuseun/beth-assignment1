{
 "cells": [
  {
   "cell_type": "code",
   "execution_count": 5,
   "id": "4382c7b6-90bf-4421-8259-38007075cb2e",
   "metadata": {},
   "outputs": [
    {
     "name": "stdout",
     "output_type": "stream",
     "text": [
      "count of numbers between 1 and 1000 divisible by 7 and 11 is 12\n"
     ]
    }
   ],
   "source": [
    "''' write a program to count how many numbers between 1 and 1000 are divisible by both 7 and 11'''\n",
    "\n",
    "#initialise count\n",
    "count = 0 \n",
    "\n",
    "#create a range (1,1001) to loop through\n",
    "for number in range(1, 1001):\n",
    "    #conditional statement to check if each iterable is divisible by 7 and 11\n",
    "    if number % 7 == 0 and number % 11 == 0:\n",
    "        count +=1\n",
    "result = count\n",
    "\n",
    "print(\"count of numbers between 1 and 1000 divisible by 7 and 11 is\", count)"
   ]
  },
  {
   "cell_type": "code",
   "execution_count": 4,
   "id": "57324f56-a6f3-4260-be9f-849887618d4f",
   "metadata": {},
   "outputs": [
    {
     "name": "stdin",
     "output_type": "stream",
     "text": [
      "enter a number: 111\n"
     ]
    },
    {
     "name": "stdout",
     "output_type": "stream",
     "text": [
      "111 is not an Armstrong number\n"
     ]
    }
   ],
   "source": [
    "'''write a program to check if a given number is an armstrong number. eg 153 is an armstrong number'''\n",
    "\n",
    "# an Armstrong number is a number whose sum of its individual digits raise to the power of the number of digits is equal to the number\n",
    "\n",
    "num = int(input(\"enter a number:\"))\n",
    "#takes input from user\n",
    "\n",
    "str_num = str(num)  # \"153\"\n",
    "#converts the user input(num) to a string to extract the digits\n",
    "\n",
    "len_digits = len(str_num) #=3\n",
    "#calculates the number of digits to determine the root power\n",
    "\n",
    "armstrong_sum = sum(int(digit) ** len_digits for digit in str_num)\n",
    "#iterates through each digit in num and raises it to the power of len_digits and sums them up\n",
    "\n",
    "if armstrong_sum == num:\n",
    "#compares calculated sum to the original number \n",
    "    print(f\"{num} is an Armstrong number\")\n",
    "else:\n",
    "    print(f\"{num} is not an Armstrong number\")"
   ]
  },
  {
   "cell_type": "code",
   "execution_count": 5,
   "id": "0349bdc0-9f4c-4265-b2a4-4ce0b3779000",
   "metadata": {},
   "outputs": [
    {
     "name": "stdout",
     "output_type": "stream",
     "text": [
      "merged dictionary = {1: 10, 2: 50, 3: 40}\n"
     ]
    }
   ],
   "source": [
    "'''write a program to merge two dictionaries. if a key exist in both, sum their values.'''\n",
    "\n",
    "dict1 = {1 : 10, 2 : 20}\n",
    "dict2 = {2 : 30, 3 : 40}\n",
    "\n",
    "merged_dict = dict1.copy()\n",
    "#dict.copy() creates a copy of dict1\n",
    "for key, value in dict2.items():\n",
    "#iterate through the key-value pair of dict2\n",
    "    if key in merged_dict:\n",
    "#if key in dict2 exist in merged_dict (dict1.copy), add the value of that particular key in dict2 to that particular key in dict1\n",
    "        merged_dict[key]  += value\n",
    "        #add the value of the key that exist in dict2 to that of dict1\n",
    "    else:\n",
    "    #add the key-value pair of dict2 to dict1 if there is no common key\n",
    "        merged_dict[key] = value\n",
    "\n",
    "print(\"merged dictionary =\", merged_dict)\n",
    "#output statement"
   ]
  },
  {
   "cell_type": "code",
   "execution_count": 4,
   "id": "672ca3ce-8124-4bc9-b8fb-7bbe6e1316d0",
   "metadata": {},
   "outputs": [
    {
     "name": "stdout",
     "output_type": "stream",
     "text": [
      "{1: 10, 2: 50, 3: 40}\n"
     ]
    }
   ],
   "source": [
    "#alternative method is to use the collection.Counter class which can be used to sum up more than two dictionaries and aggregate similar keys\n",
    "\n",
    "from collections import Counter\n",
    "\n",
    "dict1 = {1 : 10, 2 : 20}\n",
    "dict2 = {2 : 30, 3 : 40}\n",
    "\n",
    "merged_dict = dict(Counter(dict1) + Counter(dict2))\n",
    "print(merged_dict)"
   ]
  },
  {
   "cell_type": "code",
   "execution_count": 6,
   "id": "acbe4341-9843-4eb6-8935-c5d64437bd40",
   "metadata": {},
   "outputs": [
    {
     "name": "stdout",
     "output_type": "stream",
     "text": [
      "Dictionary of squares= {1: 1, 2: 4, 3: 9, 4: 16, 5: 25}\n"
     ]
    }
   ],
   "source": [
    "'''create a dictionary where the keys are numbers from 1 to 5 and whoose value pairs are the squares of the numbers'''\n",
    "#use dicttionary comprehension to create dictionary using range function to generate numbers from 1 to 5\n",
    "\n",
    "my_dict = {num : num**2 for num in range (1,6)} \n",
    "\n",
    "print(\"Dictionary of squares=\", my_dict)"
   ]
  },
  {
   "cell_type": "code",
   "execution_count": 18,
   "id": "8926c822-71f8-45c6-8408-0b20480df348",
   "metadata": {},
   "outputs": [
    {
     "name": "stdin",
     "output_type": "stream",
     "text": [
      "Enter a 6 letter word: emikir\n",
      "Enter a different 6 letter word: nwanjy\n"
     ]
    },
    {
     "name": "stdout",
     "output_type": "stream",
     "text": [
      "set1 and set2 have no common element\n"
     ]
    }
   ],
   "source": [
    "''' create a program that takes two set of strings and determines if the sets are disjoints (have no element in common)'''\n",
    "#takes first input from the user\n",
    "word1 = input(\"Enter a 6 letter word:\")\n",
    "#takes second input from the user\n",
    "word2 = input(\"Enter a different 6 letter word:\")\n",
    "#converts user input into set\n",
    "set1 = set(word1)\n",
    "set2 = set(word2)\n",
    "#determines if set1 and set2 are disjoints by using the .isdisjoint() method\n",
    "if set1.isdisjoint(set2):\n",
    "    print(\"set1 and set2 have no common element\")\n",
    "#alternative result to see if both sets have somthing in common by using the intersection(&) operator\n",
    "else:\n",
    "    print(f\"set1 and set2  have common element : {set1 & set2}\")"
   ]
  },
  {
   "cell_type": "code",
   "execution_count": 20,
   "id": "4f15825e-cbb4-4360-a4f6-cb94cf048d18",
   "metadata": {},
   "outputs": [
    {
     "name": "stdout",
     "output_type": "stream",
     "text": [
      "vowels present: {'a', 'o', 'i', 'u'}\n"
     ]
    }
   ],
   "source": [
    "''' write a program to find all the vowels present in the sentence :\"python programimg is fun\" using a set'''\n",
    "\n",
    "#create a definition of vowels\n",
    "vowels = {'a', 'e', 'i', 'o', 'u'}\n",
    "\n",
    "sentence = \"python programming is fun\"\n",
    "#converts sentence into a set\n",
    "set_sent = set(sentence)\n",
    "#checks for the presence of vowels in python using the intersection(&) operator\n",
    "vowels_in_sentence = vowels & set_sent\n",
    "\n",
    "print(\"vowels present:\", vowels_in_sentence)"
   ]
  },
  {
   "cell_type": "code",
   "execution_count": 10,
   "id": "643926eb-48eb-4b85-90c3-863692179583",
   "metadata": {},
   "outputs": [
    {
     "name": "stdout",
     "output_type": "stream",
     "text": [
      "sorted in descending order\n"
     ]
    }
   ],
   "source": [
    "''' Write a program to check if a list is sorted in either ascending or descending order and returns True if sorted'''\n",
    "\n",
    "#defines a function called sorted_list \n",
    "def sorted_list(lst):\n",
    "    #checks if list is sorted in ascending order(by default) using the sorted() method and returns sorted in ascending order \n",
    "    if lst==sorted(lst):\n",
    "        return \"sorted in ascending order\"\n",
    "    #checks if list is sorted in descending order using the sorted(list,reverese = True)method and returns the statement: sorted in descending order\n",
    "    elif lst== sorted(lst, reverse = True):\n",
    "        return \"sorted in descending order\"\n",
    "   #chexks if list is not sorted or unordered and returns not sorted\n",
    "    else:\n",
    "        return \"not sorted\"\n",
    "\n",
    "numbers = [9, 7, 5, 4, 2]\n",
    "#calling the function\n",
    "result= sorted_list(numbers)\n",
    "print(result)"
   ]
  },
  {
   "cell_type": "code",
   "execution_count": 13,
   "id": "210a56e6-453a-45e0-a433-057f79f64f44",
   "metadata": {},
   "outputs": [
    {
     "data": {
      "text/plain": [
       "True"
      ]
     },
     "execution_count": 13,
     "metadata": {},
     "output_type": "execute_result"
    }
   ],
   "source": [
    "''' Write a program that takes two strings and checks if one is a subsequence of the other'''\n",
    "\n",
    "def is_subsequence(str1, str2):\n",
    "#use an iterator if the order of subsequence is of importance\n",
    "   # large = iter(str2)\n",
    "    \n",
    "     #use all function to determine if all the characters in str1 is a subsequence (or occurs) in str2\n",
    "    return all(char in str2 for char in str1)\n",
    " \n",
    "is_subsequence(\"abc\", \"abcde\")\n",
    "is_subsequence(\"aec\", \"abcde\")\n",
    "\n",
    "    "
   ]
  },
  {
   "cell_type": "code",
   "execution_count": 31,
   "id": "e9bbcc42-21ff-4d45-940d-4d30950450c6",
   "metadata": {},
   "outputs": [
    {
     "name": "stdout",
     "output_type": "stream",
     "text": [
      "4 does not appear two times in the list\n",
      "Original list: [1, 2, 3, 2, 4, 5]\n",
      "Updated list: None\n"
     ]
    }
   ],
   "source": [
    "''' Create a program that removes the second occurrence of a value for a list'''\n",
    "\n",
    "def remove_second_occurrence(lst, value):\n",
    "\n",
    "    #initialise the occurence to be zero because we need to track the number of occurrences\n",
    "    occurrence = 0\n",
    "     \n",
    "    for i in range(len(lst)):   #use a for loop to iterate through the index positions of the elements in the list with the help of the len() operator\n",
    "         \n",
    "        if lst[i] == value:    #checks if the current position of the element (i) is equals to the given value (2)\n",
    "            occurrence += 1\n",
    "            if occurrence == 2:  #checks if its the second occurrence of the (i) being equal to the value\n",
    "                return lst[:i] + lst[i+1:]   #returns a modified list\n",
    "        \n",
    "\n",
    "    print(f\"{value} does not appear two times in the list\")\n",
    "    \n",
    "\n",
    "my_list = [1, 2, 3, 2, 4, 5]\n",
    "value_to_remove = 4\n",
    "\n",
    "updated_list = remove_second_occurrence(my_list, value_to_remove)\n",
    "\n",
    "print(\"Original list:\" , my_list)\n",
    "print(\"Updated list:\" , updated_list)\n",
    "\n",
    "\n"
   ]
  },
  {
   "cell_type": "code",
   "execution_count": null,
   "id": "608fa7c6-f693-4664-a77b-ec848fca04ea",
   "metadata": {},
   "outputs": [],
   "source": []
  }
 ],
 "metadata": {
  "kernelspec": {
   "display_name": "Python 3 (ipykernel)",
   "language": "python",
   "name": "python3"
  },
  "language_info": {
   "codemirror_mode": {
    "name": "ipython",
    "version": 3
   },
   "file_extension": ".py",
   "mimetype": "text/x-python",
   "name": "python",
   "nbconvert_exporter": "python",
   "pygments_lexer": "ipython3",
   "version": "3.12.7"
  }
 },
 "nbformat": 4,
 "nbformat_minor": 5
}
