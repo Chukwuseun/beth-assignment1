{
 "cells": [
  {
   "cell_type": "code",
   "execution_count": null,
   "id": "20b141a5-2653-49e9-af95-e16d8044276d",
   "metadata": {},
   "outputs": [],
   "source": [
    "#ADVANCED LEVEL"
   ]
  },
  {
   "cell_type": "code",
   "execution_count": 4,
   "id": "6157a850-263a-48c9-b2b7-62db76152c71",
   "metadata": {},
   "outputs": [
    {
     "data": {
      "text/plain": [
       "'Not a palindrome'"
      ]
     },
     "execution_count": 4,
     "metadata": {},
     "output_type": "execute_result"
    }
   ],
   "source": [
    "'''Write a function is_palindrome(word) that takes a string and checks if it is a\n",
    "palindrome. If it is, return \"It’s a palindrome!\"; otherwise, return \"Not a palindrome!\". Try it with words like \"level\" and \"hello\"'''\n",
    "\n",
    "def is_palindrome(word):\n",
    "    if word == word[::-1]:\n",
    "        return \"Its a palindrome\"\n",
    "    else:\n",
    "        return \"Not a palindrome\"\n",
    "\n",
    "is_palindrome(\"hello\")\n"
   ]
  },
  {
   "cell_type": "code",
   "execution_count": null,
   "id": "3f418a4b-08ca-4844-a0a7-3234e67db4d8",
   "metadata": {},
   "outputs": [],
   "source": []
  },
  {
   "cell_type": "code",
   "execution_count": 10,
   "id": "1e22ed96-7f58-4bf4-8033-b658824e0629",
   "metadata": {},
   "outputs": [
    {
     "name": "stdout",
     "output_type": "stream",
     "text": [
      "The amswer is 493.0\n"
     ]
    }
   ],
   "source": [
    "'''Create a function mystery_calculation(a, b, c) that accepts three numbers and returns\n",
    "the result of the following formula:\n",
    "((a + b) * c) / 2. Call the function with 5, 7, and 10. '''\n",
    "\n",
    "def mystery_calculation(a, b, c):\n",
    "    formula = ((a + b) * c) / 2\n",
    "    return formula\n",
    "\n",
    "calculator = mystery_calculation( 23, 35, 17)\n",
    "print(\"The amswer is\" , calculator)"
   ]
  },
  {
   "cell_type": "code",
   "execution_count": 13,
   "id": "7ded9480-3188-4c77-b5f5-d1f5d1b6699d",
   "metadata": {},
   "outputs": [
    {
     "name": "stdout",
     "output_type": "stream",
     "text": [
      "[0, 1, 1, 2, 3, 5, 8]\n"
     ]
    }
   ],
   "source": [
    "'''Write a function generate_fibonacci(n) that returns the first n numbers of the\n",
    "Fibonacci sequence. For example, for n = 5, the output should be [0, 1, 1, 2, 3'''\n",
    "\n",
    "def generate_fibonacci(n):\n",
    "    if n == 0:\n",
    "        return []\n",
    "    elif n == 1:\n",
    "        return [0]\n",
    "    elif n == 2:\n",
    "        return [0, 1]\n",
    "\n",
    "    fibonacci_sequence = [0, 1]\n",
    "    for i in range(2, n):\n",
    "        next_number = fibonacci_sequence[-1] + fibonacci_sequence[-2]\n",
    "        fibonacci_sequence.append(next_number)\n",
    "\n",
    "    return fibonacci_sequence\n",
    "\n",
    "n = 5\n",
    "print(generate_fibonacci(7))"
   ]
  },
  {
   "cell_type": "code",
   "execution_count": 16,
   "id": "c1c33022-874c-412f-bb36-2fd2fff07557",
   "metadata": {},
   "outputs": [
    {
     "name": "stdout",
     "output_type": "stream",
     "text": [
      "2\n"
     ]
    }
   ],
   "source": [
    "'''Create a function count_word_frequency(text, word) that takes a string and a word, then counts how many times the word appears in the string. \n",
    "Call it with the sentence\"Python is fun, Python is powerful\" and the word \"Python\".'''\n",
    "\n",
    "def count_word_frequency(text, word):\n",
    "    count = text.count(word)\n",
    "    return count\n",
    "\n",
    "text = \"Python is fun, Python is powerful\"\n",
    "word = \"Python\"\n",
    "print(count_word_frequency(text, word))"
   ]
  },
  {
   "cell_type": "code",
   "execution_count": 33,
   "id": "1e0c1468-1bbd-4189-80c0-e01b1dd05a72",
   "metadata": {},
   "outputs": [
    {
     "name": "stdout",
     "output_type": "stream",
     "text": [
      "22\n"
     ]
    }
   ],
   "source": [
    "'''Write a function find_mystery_number(numbers) that accepts a list of numbers andreturns the largest even number in the list. \n",
    "If there are no even numbers, return \"Noeven numbers found!\". Test the function with the list [3, 5, 7, 8, 12, 14]'''\n",
    "\n",
    "def find_mystery_number(numbers):\n",
    "    even_numbers = []\n",
    "    for num in numbers:\n",
    "        if num % 2 == 0:\n",
    "            even_numbers.append(num)\n",
    "\n",
    "    if even_numbers:\n",
    "        return max(even_numbers)\n",
    "    \n",
    "    \n",
    "\n",
    "my_list = [3,5,7,8,12,14, 17,19,22]\n",
    "result = find_mystery_number(my_list)\n",
    "print(result)"
   ]
  },
  {
   "cell_type": "code",
   "execution_count": null,
   "id": "a506148f-5361-42ff-8968-53e9d8222f89",
   "metadata": {},
   "outputs": [],
   "source": [
    "# INTERMEDIATE LEVEL"
   ]
  },
  {
   "cell_type": "code",
   "execution_count": 1,
   "id": "48eba53c-0587-46f0-8448-784c7010b779",
   "metadata": {},
   "outputs": [
    {
     "name": "stdout",
     "output_type": "stream",
     "text": [
      "(9, 3, 18, 2.0)\n"
     ]
    }
   ],
   "source": [
    "'''Write a function math_quiz(num1, num2) that accepts two numbers and returns the\n",
    "sum, difference, product, and quotient of these two numbers in a tuple. For example:\n",
    "(sum, difference, product, quotient). Call the function with 5 and 3.'''\n",
    "\n",
    "def math_quiz(num1, num2):\n",
    "  add = num1 + num2\n",
    "  difference = num1 - num2\n",
    "  product = num1 * num2\n",
    "  quotient = num1 / num2\n",
    "\n",
    "  return (add, difference, product, quotient)\n",
    "result = math_quiz(6, 3)\n",
    "print(f\"{result}\")"
   ]
  },
  {
   "cell_type": "code",
   "execution_count": 45,
   "id": "78d07ffb-824d-4c84-8704-dd0759f1053c",
   "metadata": {},
   "outputs": [
    {
     "name": "stdout",
     "output_type": "stream",
     "text": [
      "You have placed a book and a pen in the magic box\n"
     ]
    }
   ],
   "source": [
    "'''Create a function magic_box(item1, item2) that returns a sentence like: \"You have\n",
    "placed <item1> and <item2> in the magic box!\". Make the items \"a book\" and \"a\n",
    "pen\". Test the function with different items.'''\n",
    "\n",
    "def magic_box(item1, item2):\n",
    "    return f\"You have placed {item1} and {item2} in the magic box\"\n",
    "print(magic_box(\"a book\", \"a pen\"))"
   ]
  },
  {
   "cell_type": "code",
   "execution_count": 55,
   "id": "972fc853-a804-4c65-ba51-5e2070060d9a",
   "metadata": {},
   "outputs": [
    {
     "name": "stdin",
     "output_type": "stream",
     "text": [
      "Enter power level: 11\n"
     ]
    },
    {
     "data": {
      "text/plain": [
       "'Try again, keep training'"
      ]
     },
     "execution_count": 55,
     "metadata": {},
     "output_type": "execute_result"
    }
   ],
   "source": [
    "'''Write a function can_fly(power_level) that takes the power level of a superhero as\n",
    "input and returns \"You can fly!\" if the power level is greater than 100, or \"Try again, keep training!\" if the power level is 100 or less.'''\n",
    "\n",
    "def can_fly(power_level):\n",
    "    power_level = int(input(\"Enter power level:\"))\n",
    "    if power_level > 100:\n",
    "        return \"You can fly\"\n",
    "    elif power_level <= 100:\n",
    "        return \"Try again, keep training\"\n",
    "\n",
    "can_fly(1)\n",
    "\n",
    "\n"
   ]
  },
  {
   "cell_type": "code",
   "execution_count": 66,
   "id": "f0b8d134-bfb3-490f-9f5e-7d18b4cfd7ee",
   "metadata": {},
   "outputs": [
    {
     "name": "stdout",
     "output_type": "stream",
     "text": [
      "The area of the rectangle is 49\n"
     ]
    }
   ],
   "source": [
    "'''Create a function calculate_area(shape, dimension1, dimension2=0) that calculates thearea of a rectangle (length × width) or square (side × side). \n",
    "The second dimensionshould default to 0 for squares. Test your function with both shapes'''\n",
    "\n",
    "def calculate_area(shape, dimension1, dimension2 = 0):\n",
    "    if shape.lower() == \"rectangle\":\n",
    "        if dimension2 == 0:\n",
    "            return \"Invalid input. Dimension2 can not be zero\"\n",
    "        return dimension1 * dimension2\n",
    "    elif shape.lower() == \"square\":\n",
    "        return dimension1 ** 2\n",
    "    else:\n",
    "        return \"Invalid shape. Please choose rectangle or square\"\n",
    "\n",
    "rectangle_area =calculate_area(\"rectangle\", 7, 7)\n",
    "                              \n",
    "print(f\"The area of the rectangle is {rectangle_area}\")"
   ]
  },
  {
   "cell_type": "code",
   "execution_count": 22,
   "id": "a65867ef-7fe6-4ed6-8152-0302166aa896",
   "metadata": {},
   "outputs": [
    {
     "name": "stdout",
     "output_type": "stream",
     "text": [
      "Your  discounted price is:78.11\n"
     ]
    }
   ],
   "source": [
    "'''Write a function calculate_discount(price, discount_percentage) that takes the price of\n",
    "an item and a discount percentage and returns the price after discount. For example, aprice of 100 with a discount of 20% should return 80'''\n",
    "\n",
    "def calculate_discount(price, discount_percentage):\n",
    "    percentage_discount = (discount_percentage/100) * price\n",
    "    final_price = price - percentage_discount\n",
    "    return final_price\n",
    "\n",
    "result = calculate_discount(78.9, 1)\n",
    "print(f\"Your  discounted price is:{result:.2f}\")\n",
    "    \n",
    "\n",
    "\n",
    " "
   ]
  },
  {
   "cell_type": "code",
   "execution_count": null,
   "id": "08c7d905-30f0-442f-9cf9-3384a162a5ea",
   "metadata": {},
   "outputs": [],
   "source": [
    "#BEGINNER LEVEL"
   ]
  },
  {
   "cell_type": "code",
   "execution_count": 25,
   "id": "60e21a1f-3783-462f-b603-72347af9220a",
   "metadata": {},
   "outputs": [
    {
     "name": "stdout",
     "output_type": "stream",
     "text": [
      "Hello, chukwuseun! Welcome to the world of Python!\n"
     ]
    }
   ],
   "source": [
    "'''Write a function greet(name) that takes a person's name as input and prints a\n",
    "personalized greeting: \"Hello, <name>! Welcome to the world of Python!\". Test the function by calling it with your name'''\n",
    "\n",
    "def greet(name):\n",
    "\n",
    "    print(f\"Hello, {name}! Welcome to the world of Python!\")\n",
    "\n",
    "greet(\"chukwuseun\")\n"
   ]
  },
  {
   "cell_type": "code",
   "execution_count": 27,
   "id": "5c81df2c-d062-4c3e-9b77-6bb6eeec00b2",
   "metadata": {},
   "outputs": [
    {
     "name": "stdin",
     "output_type": "stream",
     "text": [
      "Enter the number of cups of flour: 2\n",
      "Enter the amount of eggs you want to use: 1\n",
      "Enter the number of milk cups you want to use: 2\n"
     ]
    },
    {
     "name": "stdout",
     "output_type": "stream",
     "text": [
      "You can make 4 pancakes\n"
     ]
    }
   ],
   "source": [
    "'''Create a function make_pancake(flour, eggs, milk) that takes in the amount of flour, eggs, and milk, and returns the total number of pancakes you can make (based on the\n",
    "formula: 1 cup flour, 1 egg, 1 cup milk makes 4 pancakes). Call the function and print\n",
    "the result.'''\n",
    "\n",
    "def make_pancake(flour, eggs, milk):\n",
    "    ratio_per_batch = min(flour / 1, eggs / 1, milk / 1)\n",
    "    total_pancakes = int(ratio_per_batch * 4)\n",
    "    return total_pancakes\n",
    "\n",
    "flour = float(input(\"Enter the number of cups of flour:\"))\n",
    "eggs = int(input(\"Enter the amount of eggs you want to use:\"))\n",
    "milk = float(input(\"Enter the number of milk cups you want to use:\"))\n",
    "result = make_pancake(flour, eggs, milk)\n",
    "print(f\"You can make {result} pancakes\")\n",
    "    \n"
   ]
  },
  {
   "cell_type": "code",
   "execution_count": 30,
   "id": "761703fc-066b-4c07-b07e-042820e0c83f",
   "metadata": {},
   "outputs": [
    {
     "name": "stdout",
     "output_type": "stream",
     "text": [
      " 98 degree celsius = 208.40Fahrenheit\n"
     ]
    }
   ],
   "source": [
    "'''Write a function convert_to_fahrenheit(celsius) that converts a temperature fromCelsius to Fahrenheit. Formula: (Celsius * 9/5) + 32 = Fahrenheit. Call the function with a temperature of\n",
    "20°C.'''\n",
    "\n",
    "def convert_to_fahrenheit(celsius):\n",
    "    Fahrenheit = (celsius * 9/5) + 32\n",
    "    return Fahrenheit\n",
    "\n",
    "result = convert_to_fahrenheit(98)\n",
    "print(f\" 98 degree celsius = {result:.2f}Fahrenheit\")"
   ]
  },
  {
   "cell_type": "code",
   "execution_count": 32,
   "id": "c4db97ac-15c8-49d4-a839-e21bfa14cd4e",
   "metadata": {},
   "outputs": [
    {
     "name": "stdout",
     "output_type": "stream",
     "text": [
      "10\n"
     ]
    }
   ],
   "source": [
    "'''Create a function add_two_numbers(num1, num2) that takes two numbers as\n",
    "arguments and returns their sum. Test the function by adding 3 and 7.'''\n",
    "\n",
    "def add_two_numbers(num1, num2):\n",
    "    return num1 + num2\n",
    "\n",
    "result = add_two_numbers(7,3)\n",
    "print(result)"
   ]
  },
  {
   "cell_type": "code",
   "execution_count": 5,
   "id": "3ccbf04b-869b-42d9-b4d6-a7727e8bf108",
   "metadata": {},
   "outputs": [
    {
     "name": "stdout",
     "output_type": "stream",
     "text": [
      "Welcome Chukwuseun! You are doing amazing!\n",
      "Welcome Southpaw! You are doing amazing!\n"
     ]
    }
   ],
   "source": [
    "'''Write a function personalized_welcome(name) that takes a name and prints out: \"Welcome, <name>! You are doing amazing!\". Try calling the function with different\n",
    "names'''\n",
    "\n",
    "def personalized_welcome(name):\n",
    "    print(f\"Welcome {name}! You are doing amazing!\")\n",
    "personalized_welcome(\"Chukwuseun\")\n",
    "personalized_welcome(\"Southpaw\")\n"
   ]
  },
  {
   "cell_type": "code",
   "execution_count": null,
   "id": "e1631cf0-a574-4ee4-ac6d-c7457c8fa6ca",
   "metadata": {},
   "outputs": [],
   "source": []
  }
 ],
 "metadata": {
  "kernelspec": {
   "display_name": "Python 3 (ipykernel)",
   "language": "python",
   "name": "python3"
  },
  "language_info": {
   "codemirror_mode": {
    "name": "ipython",
    "version": 3
   },
   "file_extension": ".py",
   "mimetype": "text/x-python",
   "name": "python",
   "nbconvert_exporter": "python",
   "pygments_lexer": "ipython3",
   "version": "3.12.7"
  }
 },
 "nbformat": 4,
 "nbformat_minor": 5
}
