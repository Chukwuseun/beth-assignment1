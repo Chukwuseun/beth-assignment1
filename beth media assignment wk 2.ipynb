{
 "cells": [
  {
   "cell_type": "code",
   "execution_count": 5,
   "id": "ffa2e06f-c16b-4d92-81cd-8c1d3adff282",
   "metadata": {},
   "outputs": [
    {
     "name": "stdin",
     "output_type": "stream",
     "text": [
      "Enter a number: -5\n"
     ]
    },
    {
     "name": "stdout",
     "output_type": "stream",
     "text": [
      " -5 is a negative number\n"
     ]
    }
   ],
   "source": [
    "''' write a python program to check if a number is positive, negative or zero'''\n",
    "\n",
    "num = int(input(\"Enter a number:\"))\n",
    "if num > 0:\n",
    "    print(f\"{num} is a positive number\")\n",
    "elif num ==0:\n",
    "    print(\"You entered zero\")\n",
    "else:\n",
    "    print(f\" {num} is a negative number\")"
   ]
  },
  {
   "cell_type": "code",
   "execution_count": 21,
   "id": "f62c362f-650c-475e-a17d-2d5104fdcba9",
   "metadata": {},
   "outputs": [
    {
     "name": "stdin",
     "output_type": "stream",
     "text": [
      " Welcome! Please enter your age:  34\n"
     ]
    },
    {
     "name": "stdout",
     "output_type": "stream",
     "text": [
      "You are an Adult\n"
     ]
    }
   ],
   "source": [
    "'''Create a Python program that takes a person's age as input and categorizes them:\n",
    "Child: 0–12 years\n",
    "Teenager: 13–19 years\n",
    "Adult: 20–59 years\n",
    "Senior: 60+ years'''\n",
    "\n",
    "age = int(input(\" Welcome! Please enter your age: \"))\n",
    "if age < 0:\n",
    "    print(\"Age can not be negative. Please enter a valid age!\")\n",
    "elif age <= 12:\n",
    "    print(\"You are a child\")\n",
    "elif 13 <= age <= 19:\n",
    "    print(\"You are a Teenager\")\n",
    "elif 20 <= age <= 59:\n",
    "    print(\"You are an Adult\")\n",
    "else:\n",
    "    print(\"You are a Senior\")\n",
    "\n",
    "          "
   ]
  },
  {
   "cell_type": "code",
   "execution_count": 23,
   "id": "5300c0d9-eb1f-4d5c-94f0-7d2a446f185a",
   "metadata": {},
   "outputs": [
    {
     "name": "stdin",
     "output_type": "stream",
     "text": [
      "Enter student grade 59\n"
     ]
    },
    {
     "name": "stdout",
     "output_type": "stream",
     "text": [
      "Grade F\n"
     ]
    }
   ],
   "source": [
    "'''Write a Python program that calculates the grade of a student based on their score using these conditions:\n",
    "90 and above: Grade A\n",
    "80–89: Grade B\n",
    "70–79: Grade C\n",
    "60–69: Grade D\n",
    "Below 60: Grade F'''\n",
    "\n",
    "grade = int(input(\"Enter student grade\"))\n",
    "if grade >= 90:\n",
    "    print(\"Grade : A\")\n",
    "elif 80 <= grade <= 90:\n",
    "    print(\"Grade:B\")\n",
    "elif 70 <= grade <= 79:\n",
    "    print(\"Grade : C\")\n",
    "elif 60 <= grade <=69:\n",
    "    print(\"Grade : D\")\n",
    "else:\n",
    "    print(\"Grade : F\")\n",
    "\n",
    "    \n",
    "            "
   ]
  },
  {
   "cell_type": "code",
   "execution_count": 32,
   "id": "15015f83-bca0-4bac-bd95-c2f52c2db801",
   "metadata": {},
   "outputs": [
    {
     "name": "stdout",
     "output_type": "stream",
     "text": [
      "[1, 2, 3, 4, 5, 6, 7, 8, 9, 10]\n"
     ]
    }
   ],
   "source": [
    "#Write a program to print all the numbers from 1 to 10 using a for loop\n",
    "\n",
    "\n",
    "numbers = []    #create an empty loop to add each iteration of num to\n",
    "for num in range(1, 11):  #remember the syntax for range(start, stop = 1)\n",
    "    numbers.append(num)   #use .append() method to add each iteration of (num) to (numbers = [])\n",
    "print(numbers)"
   ]
  },
  {
   "cell_type": "code",
   "execution_count": 51,
   "id": "2c6918fd-41a3-47c5-be64-c92e2f3308ae",
   "metadata": {},
   "outputs": [
    {
     "name": "stdin",
     "output_type": "stream",
     "text": [
      "Enter a number: 6\n"
     ]
    },
    {
     "name": "stdout",
     "output_type": "stream",
     "text": [
      "6\n",
      "5\n",
      "4\n",
      "3\n",
      "2\n",
      "1\n",
      "0\n",
      "Countdown complete!\n"
     ]
    }
   ],
   "source": [
    "# Write a program that asks the user to input a number and then counts down to 0 using a whileloop. \n",
    "\n",
    "number = int(input(\"Enter a number:\")) #request for user input. use (int) in input statement to limit input to integers only\n",
    "\n",
    "while number >=0: #while loop that continues to run untill the condition is false that is number becomes less than zero\n",
    "    print(number)\n",
    "    number-= 1\n",
    "\n",
    "print(\"Countdown complete!\")\n"
   ]
  },
  {
   "cell_type": "code",
   "execution_count": null,
   "id": "d5faa01a-869e-475c-b78a-6d3fac9907f2",
   "metadata": {},
   "outputs": [],
   "source": [
    "#INTERMEDIATE QUESTIONS"
   ]
  },
  {
   "cell_type": "code",
   "execution_count": 46,
   "id": "416f72a1-35f6-4304-a605-d64ef8bfc890",
   "metadata": {},
   "outputs": [
    {
     "name": "stdout",
     "output_type": "stream",
     "text": [
      "Sum of even numbers between 1 and 50 is  650\n"
     ]
    }
   ],
   "source": [
    "#Write a program to calculate the sum of even numbers between 1 and 50 using range a for loop.\n",
    "\n",
    "sum_of_even_numbers = 0  #initialise variable that outputs sum of the even numbers \n",
    "'''for i in range(2, 51, 2): #start the range @ 2 and increment by 2.\n",
    "    sum_of_even_numbers += i  #adds each iteration of i to (sum_of even_numbers)'''\n",
    "\n",
    "#alternative method\n",
    "for i in range(1, 51):  #start of range is 1 and stop is 51\n",
    "    if i % 2 == 0:   #use modulus sign to determine even numbers (numbers divided by two without remainder)\n",
    "        sum_of_even_numbers += i      #adds each iteration of i to (sum_of even_numbers)\n",
    "\n",
    "print(\"Sum of even numbers between 1 and 50 is \", sum_of_even_numbers)  #note that f-string was not used here\n",
    "    "
   ]
  },
  {
   "cell_type": "code",
   "execution_count": 52,
   "id": "8175c970-5b8b-4497-89f0-a9bd8ad1a234",
   "metadata": {
    "scrolled": true
   },
   "outputs": [
    {
     "name": "stdout",
     "output_type": "stream",
     "text": [
      "\n",
      "Guess the right number between 1 and 20. You have 5 attempts\n"
     ]
    },
    {
     "name": "stdin",
     "output_type": "stream",
     "text": [
      "Attempt 1 of 5: Enter your guess: 12\n"
     ]
    },
    {
     "name": "stdout",
     "output_type": "stream",
     "text": [
      "Congratulations! You guessed the right number:12\n"
     ]
    }
   ],
   "source": [
    "'''Write a Python program that simulates a simple guessing game:\n",
    "1. Use a while loop to ask the user to guess a number between 1 and 20. \n",
    "2. If the guess is correct, print “Congratulations! You guessed it!” and exit the loop. \n",
    "3. If the guess is too high or too low, provide feedback and let them guess again. \n",
    "4.The program should stop after 5 incorrect attempts and print “Game Over.'''\n",
    "\n",
    "import random  #import random module\n",
    "\n",
    "while True:  #ensures the game runs infinitely except its stopped using a break statememnt\n",
    "    print(\"\\nGuess the right number between 1 and 20. You have 5 attempts\")  #morelike a welcome message\n",
    "    random_number = random.randint(1,20)  #generates random numbers between 1 and 20\n",
    "    attempts = 0  #initialize attempts since we will be counting attempts \n",
    "\n",
    "    while attempts < 5:   #inner loop condition that says code runs untill attampts counts up to 5. Default counting starts from zero\n",
    "        user_guess = int(input(f\"Attempt {attempts + 1} of 5: Enter your guess:\"))  #(attempts + 1) is for display purpose to avoid confusion\n",
    "        attempts += 1  #attempts counter to count the number of attampts and add to (attempts = 0)\n",
    "\n",
    "        if user_guess == random_number: #code block that executes if user guess is same as random number\n",
    "            print(f\"Congratulations! You guessed the right number:{random_number}\")\n",
    "            break #exits the inner loop and moves to the outer loop)\n",
    "      \n",
    "        elif user_guess < random_number: #code to execute if the user guess is lower than random number\n",
    "            print(f\"Your guess is too low. Try again\")\n",
    "       \n",
    "        elif user_guess > random_number:  #code to execute if user guess is higher than random number\n",
    "            print(\"Your guess is too high. Try again\")\n",
    "   \n",
    "    else:  #code to execute if all 5 attempts has been used\n",
    "        print(f\"\\nSorry, you've used all 5 attempts.  Game Over!\")\n",
    "   \n",
    "    play_again = input(\"Do you want to play again? yes/no :\").strip().lower() #code block that asks if user wants to play again after winning or loosing\n",
    "    if play_again != \"yes\":\n",
    "        print(\"Thanks for playing. Goodbye!\")\n",
    "        break  \n",
    "     "
   ]
  },
  {
   "cell_type": "code",
   "execution_count": 80,
   "id": "2fe1d9bf-1aff-4065-81c4-af47124c6a91",
   "metadata": {},
   "outputs": [
    {
     "name": "stdin",
     "output_type": "stream",
     "text": [
      "Enter your passcode: sdghdfsusdf][\n",
      "attempt 1 of 3. Enter your passcode:  sdgdhjdf\n"
     ]
    },
    {
     "name": "stdout",
     "output_type": "stream",
     "text": [
      "incorrect passcode, Please Try again\n"
     ]
    },
    {
     "name": "stdin",
     "output_type": "stream",
     "text": [
      "attempt 2 of 3. Enter your passcode:  sdjhdcfjhf\n"
     ]
    },
    {
     "name": "stdout",
     "output_type": "stream",
     "text": [
      "incorrect passcode, Please Try again\n"
     ]
    },
    {
     "name": "stdin",
     "output_type": "stream",
     "text": [
      "attempt 3 of 3. Enter your passcode:  asgsdgh\n"
     ]
    },
    {
     "name": "stdout",
     "output_type": "stream",
     "text": [
      "incorrect passcode, Please Try again\n",
      "You have reached the maximum attempts. Please contact the administrator\n"
     ]
    }
   ],
   "source": [
    "'''Create a program that:\n",
    " Asks the user to enter a password. \n",
    " Checks if the password matches a predefined value (e.g., \"python123\").\n",
    "If incorrect, lets the user try again. \n",
    " Stops and prints \"Access Granted\" when the correct password is entered  '''\n",
    "\n",
    "password = input(\"Enter password:\") #receives user input\n",
    "passcode = \"Python123@\"\n",
    "attempts = 0  #introduce an attempt counter to count amount of times to accept user input\n",
    "while attempts < 3: #peg attempts to maximum of three \n",
    "        passcode = input(f\"attempt {attempts + 1} of 3. Enter your passcode: \") # again (attempts + 1) is for display purposes\n",
    "        attempts +=1  #counter adds 1 after each attempt at entering the password\n",
    "    \n",
    "        if  password == passcode: #code block executes if password is same as passcode\n",
    "            print(\"Access Granted\")\n",
    "            break\n",
    "        \n",
    "        else:            \n",
    "            print(\"incorrect passcode, Please Try again\") #code block executes if password is not equal to passcode\n",
    "            \n",
    "           #attempts +=1\n",
    "if attempts == 3: #code block executes after the third failed password attempt\n",
    "    print(\"You have reached the maximum attempts. Please contact the administrator\")\n",
    "        \n",
    "\n"
   ]
  },
  {
   "cell_type": "code",
   "execution_count": 32,
   "id": "f0129640-b4ff-4c8c-9a64-54fcc61f36e5",
   "metadata": {},
   "outputs": [
    {
     "name": "stdout",
     "output_type": "stream",
     "text": [
      "*\n",
      "**\n",
      "***\n",
      "****\n",
      "*****\n"
     ]
    }
   ],
   "source": [
    "'''Write a code to create a pattern using nested loop\n",
    "*\n",
    "**\n",
    "***\n",
    "****\n",
    "*****'''\n",
    "\n",
    "\n",
    "for i in range(1, 6):  #since it is a row of 5, we use range (1,6) to iterate through each row and multiply each iteration by * to create the pattern\n",
    "    print( \"*\" * i)"
   ]
  },
  {
   "cell_type": "code",
   "execution_count": 82,
   "id": "28c6241a-1a5c-4d0d-ae91-235a3ba5d252",
   "metadata": {},
   "outputs": [
    {
     "name": "stdout",
     "output_type": "stream",
     "text": [
      "1\n",
      "1  2\n",
      "1  2  3\n",
      "1  2  3  4\n",
      "1  2  3  4  5\n"
     ]
    }
   ],
   "source": [
    "'''Create a program that uses nested loops to print the following triangle:\n",
    "1\n",
    "1 2\n",
    "1 2 3\n",
    "1 2 3 4\n",
    "1 2 3 4 5 '''\n",
    "\n",
    "for i in range(1, 6): #same row as above\n",
    "    row = \" \"   #create an empty string for row to add the iteration of the inner loop\n",
    "    for j in range(1, i+1): #use a nested loop to iterate through (i) using range (1 + i+1) \n",
    "        row += str(j) + \"  \" #update the empty row string by adding (j) in string format-str(j) plus (\" \") to put a space in the string\n",
    "    print(row.strip())  #remove trailing white spaces in row and display same"
   ]
  },
  {
   "cell_type": "code",
   "execution_count": null,
   "id": "4bc2b694-dce6-4cd2-998f-013004cfb6cf",
   "metadata": {},
   "outputs": [],
   "source": [
    "#ADVANCED QUESTIONS"
   ]
  },
  {
   "cell_type": "code",
   "execution_count": 48,
   "id": "e6420bac-7111-4d86-873c-28afe0810918",
   "metadata": {},
   "outputs": [
    {
     "name": "stdin",
     "output_type": "stream",
     "text": [
      "Enter student grade -22\n"
     ]
    },
    {
     "name": "stdout",
     "output_type": "stream",
     "text": [
      "Invalid score. Please enter a valid score\n"
     ]
    }
   ],
   "source": [
    "'''Write a Python program that calculates the grade of a student based on their score using these conditions:\n",
    "90 and above: Grade A\n",
    "80–89: Grade B\n",
    "70–79: Grade C\n",
    "60–69: Grade D\n",
    "Below 60: Grade F\n",
    "if the score is less than 0 or greater than 100,print Invalid score'''\n",
    "\n",
    "grade = int(input(\"Enter student grade\"))\n",
    "if grade < 0 or grade > 100:\n",
    "    print(\"Invalid score. Please enter a valid score\")\n",
    "elif grade >= 90:\n",
    "    print(\"Grade : A\")\n",
    "elif 80 <= grade <= 90:\n",
    "    print(\"Grade : B\")\n",
    "elif 70 <= grade <= 79:\n",
    "    print(\"Grade : C\")\n",
    "elif 60 <= grade <=69:\n",
    "    print(\"Grade : D\")\n",
    "else:\n",
    "    print(\"Grade : F\")\n"
   ]
  },
  {
   "cell_type": "code",
   "execution_count": 56,
   "id": "820ebb0e-733d-4230-8a44-080aab75df30",
   "metadata": {},
   "outputs": [
    {
     "name": "stdin",
     "output_type": "stream",
     "text": [
      "Enter your number:  1234\n"
     ]
    },
    {
     "name": "stdout",
     "output_type": "stream",
     "text": [
      "10\n"
     ]
    }
   ],
   "source": [
    "'''Write a Python program to calculate the sum of the digits of a given number:\n",
    "Input Example: 1234\n",
    "Output Example: \"The sum of digits is 10.\" '''\n",
    "\n",
    "user_input = int(input(\"Enter your number: \"))\n",
    "str_user_input = str(user_input)  #converts user input to string for iteration purpose\n",
    "\n",
    "sum_of_digits = sum(int(digit) for digit in str_user_input]) #generator expression \n",
    "#print(f\"sum_of_digits is {sum_of_digits}\")\n",
    "\n",
    "\n",
    "#for-loop method\n",
    "\n",
    "#sum_of_digits = 0\n",
    "#for digit in str_user_input:\n",
    "    #sum_of_digits += int(digit)\n",
    "#print(sum_of_digits)\n",
    "\n",
    "#functional programing method using map\n",
    "sum_of_digits = sum(map(int, str_user_input))\n",
    "print(sum_of_digits)\n"
   ]
  },
  {
   "cell_type": "code",
   "execution_count": null,
   "id": "494b4746-66b2-44d0-89f5-86c8774efe19",
   "metadata": {},
   "outputs": [],
   "source": [
    "# Write a program that asks the user to input a number and then counts down to 0 using a whileloop.Include a delay of 1 sec\n",
    "import time\n",
    "\n",
    "number = int(input(\"Enter a number to start the coutdown:\"))\n",
    "\n",
    "while number >= 0:\n",
    "    print(number)\n",
    "    time.sleep(1)  #code to include delay of 1 secs\n",
    "    number-= 1\n",
    "\n",
    "print(\"Time's up\")"
   ]
  },
  {
   "cell_type": "code",
   "execution_count": 87,
   "id": "fe348692-ef06-400e-8bd7-84ee8068d459",
   "metadata": {},
   "outputs": [
    {
     "name": "stdout",
     "output_type": "stream",
     "text": [
      "The prime numbers between 1 and 100 is [2, 3, 5, 7, 11, 13, 17, 19, 23, 29, 31, 37, 41, 43, 47, 53, 59, 61, 67, 71, 73, 79, 83, 89, 97]\n"
     ]
    }
   ],
   "source": [
    "#Write a program that finds and prints all prime numbers between 1 and 100\n",
    "# hint: Use nested loop to find divisibility for each number\n",
    "prime_numbers = [] #create an empty list \n",
    "\n",
    "for num in range(1,101):\n",
    "    if num <= 1:\n",
    "        continue\n",
    "   # if all(num % i != 0 for i in range(2,num)):\n",
    "      # prime_numbers.append(num)\n",
    "    \n",
    "    \n",
    "    for i in range(2, num):   # 2 starts the range because we are looking for prime numbers. Starting with 1 will make the code redundant\n",
    "        if  num % i == 0:\n",
    "            break\n",
    "    else:\n",
    "        prime_numbers.append(num)   \n",
    "\n",
    "print(f\"The prime numbers between 1 and 100 is {prime_numbers}\")\n",
    "\n",
    "    \n",
    "        "
   ]
  },
  {
   "cell_type": "code",
   "execution_count": null,
   "id": "1664209f-05f1-4864-96b5-fba30d585c95",
   "metadata": {},
   "outputs": [],
   "source": []
  }
 ],
 "metadata": {
  "kernelspec": {
   "display_name": "Python 3 (ipykernel)",
   "language": "python",
   "name": "python3"
  },
  "language_info": {
   "codemirror_mode": {
    "name": "ipython",
    "version": 3
   },
   "file_extension": ".py",
   "mimetype": "text/x-python",
   "name": "python",
   "nbconvert_exporter": "python",
   "pygments_lexer": "ipython3",
   "version": "3.12.7"
  }
 },
 "nbformat": 4,
 "nbformat_minor": 5
}
